{
 "cells": [
  {
   "cell_type": "markdown",
   "metadata": {},
   "source": [
    "# EEP 153: Project 4\n",
    "## Team Normal Borlaug: A Study of Uganda VS Tanzania\n",
    "\n",
    "This Python notebook walks through all of our deliverables, so you can run it and check out how everything works in addition to verify we have met all of our deliverables. ***Click*** on the Table of Contents to be directed to any deliverable you want to see."
   ]
  },
  {
   "cell_type": "markdown",
   "metadata": {},
   "source": [
    "However, before you run *anything* please run these installs so that everything works properly!"
   ]
  },
  {
   "cell_type": "code",
   "execution_count": 3,
   "metadata": {},
   "outputs": [],
   "source": [
    "# Run these installs!\n",
    "\n",
    "import pandas as pd\n",
    "import numpy as np"
   ]
  },
  {
   "cell_type": "markdown",
   "metadata": {},
   "source": [
    "## Table of Contents and Deliverables\n",
    "1. <a href=\"#replicability-and-documentation\"><span style=\"color:red;\">[Deliverable 1.1[A]]</span> - Replicability and Documentation</a>\n",
    "2. <a href=\"#document-goals\"><span style=\"color:red;\">[Deliverable 1.2[A]]</span> - Document Goals</a>\n",
    "3. <a href=\"#unit-tests\"><span style=\"color:red;\">[Deliverable 1.3[A]]</span> - Unit Tests</a>\n",
    "4. <a href=\"#choice-of-a-dataset\"><span style=\"color:red;\">[Deliverable 1.4[A]]</span> - Choice of a Dataset</a>\n",
    "5. <a href=\"#estimate-demand-system\"><span style=\"color:red;\">[Deliverable 1.5[A]]</span> - Estimate Demand System</a>\n",
    "6. <a href=\"#construct-nutrient-system\"><span style=\"color:red;\">[Deliverable 1.6[A]]</span> - Construct Nutrient System</a>\n",
    "7. <a href=\"#nutritional-challenges-and-policy-goal\"><span style=\"color:red;\">[Deliverable 1.7[A]]</span> - Nutritional Challenges and Policy Goal</a>\n",
    "8. <a href=\"#policy-options\"><span style=\"color:red;\">[Deliverable 1.8[B]]</span> - Policy Options</a>\n",
    "9. <a href=\"#policy-cost\"><span style=\"color:red;\">[Deliverable 1.9[C]]</span> - Policy Cost</a>\n",
    "10. <a href=\"#value-of-technical-innovation\"><span style=\"color:red;\">[Deliverable 1.10[C]]</span> - Value of Technical Innovation</a>\n",
    "11. <a href=\"#replication-and-discussion\"><span style=\"color:red;\">[Deliverable 1.12[A]]</span> - Replication and Discussion</a>\n",
    "12. <a href=\"#works-cited\"><span style=\"color:red;\"></span> Works Cited</a>"
   ]
  },
  {
   "cell_type": "markdown",
   "metadata": {},
   "source": [
    "## [Deliverable 1.1[A] - Replicability and Documentation](#replicability-and-documentation)"
   ]
  },
  {
   "cell_type": "markdown",
   "metadata": {},
   "source": []
  },
  {
   "cell_type": "markdown",
   "metadata": {},
   "source": [
    "## [Deliverable 1.2[A] - Document Goals](#document-goals)"
   ]
  },
  {
   "cell_type": "markdown",
   "metadata": {},
   "source": [
    "## [Deliverable 1.3[A] - Unit Tests](#unit-tests)"
   ]
  },
  {
   "cell_type": "markdown",
   "metadata": {},
   "source": [
    "## [Deliverable 1.4[A] - Choice of a Dataset](#choice-of-a-dataset)"
   ]
  },
  {
   "cell_type": "markdown",
   "metadata": {},
   "source": [
    "## [Deliverable 1.5[A] - Estimate Demand System](#estimate-demand-system)"
   ]
  },
  {
   "cell_type": "markdown",
   "metadata": {},
   "source": [
    "## [Deliverable 1.6[A] - Construct Nutrient System](#construct-nutrient-system)"
   ]
  },
  {
   "cell_type": "markdown",
   "metadata": {},
   "source": [
    "## [Deliverable 1.7[A] - Nutritional Challenges and Policy Goal](#nutritional-challenges-and-policy-goal)"
   ]
  },
  {
   "cell_type": "markdown",
   "metadata": {},
   "source": [
    "## [Deliverable 1.8[B] - Policy Options](#policy-options)"
   ]
  },
  {
   "cell_type": "markdown",
   "metadata": {},
   "source": [
    "## [Deliverable 1.9[C] - Policy Cost](#policy-cost)"
   ]
  },
  {
   "cell_type": "markdown",
   "metadata": {},
   "source": [
    "## [Deliverable 1.10[C] - Value of Technical Innovation](#value-of-technical-innovation)"
   ]
  },
  {
   "cell_type": "markdown",
   "metadata": {},
   "source": [
    "## [Deliverable 1.12[A] - Replication and Discussion](#replication-and-discussion)"
   ]
  },
  {
   "cell_type": "markdown",
   "metadata": {},
   "source": [
    "## [Works Cited](#works-cited)\n"
   ]
  }
 ],
 "metadata": {
  "kernelspec": {
   "display_name": "Python 3",
   "language": "python",
   "name": "python3"
  },
  "language_info": {
   "codemirror_mode": {
    "name": "ipython",
    "version": 3
   },
   "file_extension": ".py",
   "mimetype": "text/x-python",
   "name": "python",
   "nbconvert_exporter": "python",
   "pygments_lexer": "ipython3",
   "version": "3.10.8"
  }
 },
 "nbformat": 4,
 "nbformat_minor": 2
}
