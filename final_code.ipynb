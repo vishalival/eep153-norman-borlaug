{
 "cells": [
  {
   "cell_type": "markdown",
   "metadata": {},
   "source": [
    "# EEP 153: Project 4\n",
    "## Team Normal Borlaug: A Study of Uganda VS Tanzania\n",
    "\n",
    "This Python notebook walks through all of our deliverables, so you can run it and check out how everything works in addition to verify we have met all of our deliverables. ***Click*** on the Table of Contents to be directed to any deliverable you want to see."
   ]
  },
  {
   "cell_type": "markdown",
   "metadata": {},
   "source": [
    "## Table of Contents and Deliverables\n",
    "1. <a href=\"#deliverable-1a-description-of-population-of-interest-introduction\"><span style=\"color:red;\">[Deliverable 1[A]]</span> - Description of Population of Interest, Introduction</a>\n",
    "2. <a href=\"#dietary-reference-intakes\"><span style=\"color:red;\">[Deliverable 2[A]]</span> - Dietary Reference Intakes</a>\n",
    "3. <a href=\"#data-prices-foods\"><span style=\"color:red;\">[Deliverable 3[A]]</span> - Data on Prices for Different Foods</a>\n",
    "4. <a href=\"#nutrition-content-foods\"><span style=\"color:red;\">[Deliverable 4[A]]</span> - Nutritional Content for Different Foods</a>\n",
    "5. <a href=\"#solution\"><span style=\"color:red;\">[Deliverable 5[A]]</span> - Solution</a>\n",
    "6. <a href=\"#solution-sensitivity\"><span style=\"color:red;\">[Deliverable 6[C]]</span> - Sensitivity of Solution</a>\n",
    "7. <a href=\"#total-cost\"><span style=\"color:red;\">[Deliverable 7[B]]</span> - Total Cost for Population of Interest</a>\n",
    "9. <a href=\"#works-cited\">Works Cited</a>"
   ]
  }
 ],
 "metadata": {
  "kernelspec": {
   "display_name": "Python 3",
   "language": "python",
   "name": "python3"
  },
  "language_info": {
   "codemirror_mode": {
    "name": "ipython",
    "version": 3
   },
   "file_extension": ".py",
   "mimetype": "text/x-python",
   "name": "python",
   "nbconvert_exporter": "python",
   "pygments_lexer": "ipython3",
   "version": "3.10.8"
  }
 },
 "nbformat": 4,
 "nbformat_minor": 2
}
